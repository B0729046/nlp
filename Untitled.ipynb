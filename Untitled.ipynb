{
 "cells": [
  {
   "cell_type": "code",
   "execution_count": 9,
   "id": "109c5e64",
   "metadata": {},
   "outputs": [],
   "source": [
    "import jieba\n",
    "import jieba.analyse\n",
    "import re\n",
    "import pandas as pd\n",
    "import matplotlib.pyplot as plt"
   ]
  },
  {
   "cell_type": "code",
   "execution_count": null,
   "id": "190274b8",
   "metadata": {},
   "outputs": [],
   "source": [
    "def TF_IDF():\n",
    "\n",
    "    data = open(\"data.txt\", encoding=\"utf-8\").read()\n",
    "\n",
    "    tags = jieba.analyse.extract_tags(data, topK=100, withWeight=True)\n",
    "\n",
    "    df = pd.DataFrame(tags, columns = [\"word\", \"TF-IDF\"]) \n",
    "\n",
    "    print('Weight rank 100')\n",
    "    print(df)\n",
    "    print('weight graph:')\n",
    "    chart = df.plot( kind ='bar', title = 'word/TF-IDF', xlabel = 'word', ylabel = 'TF-IDF', figsize = (32,24))\n",
    "    plt.show()\n",
    "    \n",
    "def Frequency():\n",
    "    seg_word=\"\"\n",
    "    data = open(\"data.txt\", encoding=\"utf-8\").read()\n",
    "    ch =re.compile(\"[\\u4e00-\\u9fa5]\")\n",
    "    seg_word =  \"\".join(ch.findall(data))\n",
    "    gap = jieba.lcut(seg_word)\n",
    "\n",
    "    counts = {}\n",
    "    for i in gap :\n",
    "        if(len(i)>1):\n",
    "            counts[i] = counts.get(i,0) + 1  #若count原本沒給值則設為1\n",
    "\n",
    "    items = list(counts.items())  \n",
    "    items.sort(key=lambda x:x[1], reverse=True)\n",
    "\n",
    "    for i in range(100):  \n",
    "        word, count = items[i]  \n",
    "    \n",
    "    df = pd.DataFrame(items, columns = [\"word\", \"Frequncy\"]).sort_values(['Frequncy'],ascending=[False])[0:100]\n",
    "    print('Frequency rank 100')\n",
    "    print(df)\n",
    "    print('Frequency graph:')\n",
    "    chart = df.plot( kind ='bar',title = 'word/Frequncy', xlabel = 'word', ylabel = 'Frequncy', figsize = (32,24))\n",
    "    plt.show()\n",
    "\n",
    "\n",
    "\n",
    "def main():\n",
    "\n",
    "    TF_IDF()\n",
    "    Frequency()\n",
    "\n",
    "if __name__ == '__main__':\n",
    "    main()\n"
   ]
  },
  {
   "cell_type": "code",
   "execution_count": null,
   "id": "ee56d372",
   "metadata": {},
   "outputs": [],
   "source": []
  },
  {
   "cell_type": "code",
   "execution_count": null,
   "id": "47a5c4b6",
   "metadata": {},
   "outputs": [],
   "source": []
  }
 ],
 "metadata": {
  "kernelspec": {
   "display_name": "Python 3 (ipykernel)",
   "language": "python",
   "name": "python3"
  },
  "language_info": {
   "codemirror_mode": {
    "name": "ipython",
    "version": 3
   },
   "file_extension": ".py",
   "mimetype": "text/x-python",
   "name": "python",
   "nbconvert_exporter": "python",
   "pygments_lexer": "ipython3",
   "version": "3.9.6"
  }
 },
 "nbformat": 4,
 "nbformat_minor": 5
}
