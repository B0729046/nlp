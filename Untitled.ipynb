{
 "cells": [
  {
   "cell_type": "code",
   "execution_count": 9,
   "id": "109c5e64",
   "metadata": {},
   "outputs": [],
   "source": [
    "import jieba\n",
    "import jieba.analyse\n",
    "import re\n",
    "import pandas as pd\n",
    "import matplotlib.pyplot as plt\n"
   ]
  },
  {
   "cell_type": "code",
   "execution_count": null,
   "id": "41c01525",
   "metadata": {},
   "outputs": [],
   "source": [
    "def TF_IDF():\n",
    "\n",
    "    data = open(\"data.txt\", encoding=\"utf-8\").read()\n",
    "\n",
    "    tags = jieba.analyse.extract_tags(data, topK=100, withWeight=True)\n",
    "\n",
    "    df = pd.DataFrame(tags, columns = [\"word\", \"TF-IDF\"]) \n",
    "\n",
    "    print('Weight rank 100')\n",
    "    print(df)\n",
    "    print('weight graph:')\n",
    "    chart = df.plot( kind ='bar', title = 'word/TF-IDF', xlabel = 'word', ylabel = 'TF-IDF', figsize = (35,15))\n",
    "    plt.show()\n"
   ]
  },
  {
   "cell_type": "code",
   "execution_count": null,
   "id": "e471cc09",
   "metadata": {},
   "outputs": [],
   "source": []
  }
 ],
 "metadata": {
  "kernelspec": {
   "display_name": "Python 3 (ipykernel)",
   "language": "python",
   "name": "python3"
  },
  "language_info": {
   "codemirror_mode": {
    "name": "ipython",
    "version": 3
   },
   "file_extension": ".py",
   "mimetype": "text/x-python",
   "name": "python",
   "nbconvert_exporter": "python",
   "pygments_lexer": "ipython3",
   "version": "3.9.6"
  }
 },
 "nbformat": 4,
 "nbformat_minor": 5
}
